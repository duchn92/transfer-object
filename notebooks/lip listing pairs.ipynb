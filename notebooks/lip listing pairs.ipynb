{
 "cells": [
  {
   "cell_type": "code",
   "execution_count": 1,
   "metadata": {},
   "outputs": [],
   "source": [
    "import shutil\n",
    "import pickle\n",
    "import glob"
   ]
  },
  {
   "cell_type": "code",
   "execution_count": 2,
   "metadata": {},
   "outputs": [],
   "source": [
    "source_dir = \"/media/tensor/EXTDRIVE/projects/virtual-try-on/dataset/lip_mpv_dataset/\""
   ]
  },
  {
   "cell_type": "code",
   "execution_count": 3,
   "metadata": {},
   "outputs": [],
   "source": [
    "f = open(source_dir + \"all_poseA_poseB_clothes.txt\", \"r\")\n",
    "text = f.read()"
   ]
  },
  {
   "cell_type": "code",
   "execution_count": 4,
   "metadata": {},
   "outputs": [],
   "source": [
    "text_list = text.split(\"\\n\")"
   ]
  },
  {
   "cell_type": "code",
   "execution_count": 5,
   "metadata": {},
   "outputs": [
    {
     "data": {
      "text/plain": [
       "['SC321E00D/SC321E00D-O11@13=person_whole_front.jpg',\n",
       " 'SC321E00D/SC321E00D-O11@15=person_whole_back.jpg',\n",
       " 'SC321E00D/SC321E00D-O11@12.1=cloth_front.jpg',\n",
       " 'train']"
      ]
     },
     "execution_count": 5,
     "metadata": {},
     "output_type": "execute_result"
    }
   ],
   "source": [
    "text_list = [i.split(\"\\t\") for i in text_list]\n",
    "text_list[0]"
   ]
  },
  {
   "cell_type": "code",
   "execution_count": 23,
   "metadata": {},
   "outputs": [],
   "source": [
    "pairs = []\n",
    "for i in text_list:\n",
    "    if \"front\" in i[0] and \"front\" in i[1]:\n",
    "        pairs.append([i[0].split(\"/\")[-1], i[1].split(\"/\")[-1]])\n",
    "        shutil.copy(source_dir + \"MPV_192_256/\" + i[0], source_dir + \"lip_pairs/\" + i[0].split(\"/\")[-1])\n",
    "        shutil.copy(source_dir + \"MPV_192_256/\" + i[1], source_dir + \"lip_pairs/\" + i[1].split(\"/\")[-1])\n"
   ]
  },
  {
   "cell_type": "code",
   "execution_count": null,
   "metadata": {},
   "outputs": [],
   "source": [
    "apparels = []\n",
    "for i in text_list:\n",
    "    if \"front\" in i[0] and \"front\" in i[1]:\n",
    "        apparels.append()"
   ]
  },
  {
   "cell_type": "code",
   "execution_count": 44,
   "metadata": {},
   "outputs": [
    {
     "data": {
      "text/plain": [
       "15948"
      ]
     },
     "execution_count": 44,
     "metadata": {},
     "output_type": "execute_result"
    }
   ],
   "source": [
    "pairs = []\n",
    "for i in text_list:\n",
    "    if \"front\" in i[0] and \"front\" in i[1]:\n",
    "        pairs.append([i[0].split(\"/\")[-1], i[1].split(\"/\")[-1], i[2].split(\"/\")[-1]])\n",
    "        shutil.copy(source_dir + \"MPV_192_256/\" + i[2] , source_dir + \"lip_apparels/\" + i[2].split(\"/\")[-1])\n",
    "len(pairs)"
   ]
  },
  {
   "cell_type": "code",
   "execution_count": 9,
   "metadata": {},
   "outputs": [
    {
     "data": {
      "text/plain": [
       "['TW421D05Y-C11@9=person_whole_front.jpg',\n",
       " 'TW421D05Y-C11@8=person_half_front.jpg',\n",
       " 'TW421D05Y-C11@2=cloth_front.jpg']"
      ]
     },
     "execution_count": 9,
     "metadata": {},
     "output_type": "execute_result"
    }
   ],
   "source": [
    "pairs[0]"
   ]
  },
  {
   "cell_type": "code",
   "execution_count": 26,
   "metadata": {},
   "outputs": [],
   "source": [
    "dense_list = glob.glob(source_dir + \"lip_dense/*\")"
   ]
  },
  {
   "cell_type": "code",
   "execution_count": 27,
   "metadata": {},
   "outputs": [],
   "source": [
    "for idx, i in enumerate(dense_list):\n",
    "    dense_list[idx] = i.split(\"/\")[-1][:-4]"
   ]
  },
  {
   "cell_type": "code",
   "execution_count": 28,
   "metadata": {},
   "outputs": [
    {
     "data": {
      "text/plain": [
       "15094"
      ]
     },
     "execution_count": 28,
     "metadata": {},
     "output_type": "execute_result"
    }
   ],
   "source": [
    "len(dense_list)"
   ]
  },
  {
   "cell_type": "code",
   "execution_count": 34,
   "metadata": {},
   "outputs": [
    {
     "data": {
      "text/plain": [
       "'S8521D14L-Q11@12=person_whole_front'"
      ]
     },
     "execution_count": 34,
     "metadata": {},
     "output_type": "execute_result"
    }
   ],
   "source": [
    "dense_list[0]"
   ]
  },
  {
   "cell_type": "code",
   "execution_count": 36,
   "metadata": {},
   "outputs": [
    {
     "data": {
      "text/plain": [
       "15948"
      ]
     },
     "execution_count": 36,
     "metadata": {},
     "output_type": "execute_result"
    }
   ],
   "source": [
    "len(pairs)"
   ]
  },
  {
   "cell_type": "code",
   "execution_count": 37,
   "metadata": {},
   "outputs": [],
   "source": [
    "final_pairs = []\n",
    "for i in pairs:\n",
    "    first = i[0][:-4]\n",
    "    second = i[1][:-4]\n",
    "    if first in dense_list and second in dense_list:\n",
    "        final_pairs.append(i)"
   ]
  },
  {
   "cell_type": "code",
   "execution_count": 38,
   "metadata": {},
   "outputs": [
    {
     "data": {
      "text/plain": [
       "15948"
      ]
     },
     "execution_count": 38,
     "metadata": {},
     "output_type": "execute_result"
    }
   ],
   "source": [
    "len(final_pairs)"
   ]
  },
  {
   "cell_type": "code",
   "execution_count": 43,
   "metadata": {},
   "outputs": [],
   "source": [
    "with open(\"lip_pairs.pkl\", \"wb\") as fp:   #Pickling\n",
    "    pickle.dump(final_pairs, fp)"
   ]
  },
  {
   "cell_type": "code",
   "execution_count": null,
   "metadata": {},
   "outputs": [],
   "source": []
  }
 ],
 "metadata": {
  "kernelspec": {
   "display_name": "Python 3",
   "language": "python",
   "name": "python3"
  },
  "language_info": {
   "codemirror_mode": {
    "name": "ipython",
    "version": 3
   },
   "file_extension": ".py",
   "mimetype": "text/x-python",
   "name": "python",
   "nbconvert_exporter": "python",
   "pygments_lexer": "ipython3",
   "version": "3.8.5"
  }
 },
 "nbformat": 4,
 "nbformat_minor": 4
}
