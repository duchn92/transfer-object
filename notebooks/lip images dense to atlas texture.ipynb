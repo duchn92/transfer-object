{
 "cells": [
  {
   "cell_type": "code",
   "execution_count": 2,
   "metadata": {},
   "outputs": [],
   "source": [
    "import glob\n",
    "import numpy as np\n",
    "from PIL import Image\n",
    "from tqdm.notebook import tqdm\n",
    "from matplotlib import pyplot as plt"
   ]
  },
  {
   "cell_type": "code",
   "execution_count": 3,
   "metadata": {},
   "outputs": [],
   "source": [
    "base_path = \"/media/tensor/EXTDRIVE/projects/virtual-try-on/dataset/lip_mpv_dataset/\""
   ]
  },
  {
   "cell_type": "code",
   "execution_count": 4,
   "metadata": {},
   "outputs": [],
   "source": [
    "dense_path = base_path + \"lip_dense/\""
   ]
  },
  {
   "cell_type": "code",
   "execution_count": 5,
   "metadata": {},
   "outputs": [],
   "source": [
    "image_path = base_path + \"lip_images/\""
   ]
  },
  {
   "cell_type": "code",
   "execution_count": 6,
   "metadata": {},
   "outputs": [],
   "source": [
    "dest_path = base_path + \"lip_textures/\""
   ]
  },
  {
   "cell_type": "code",
   "execution_count": 7,
   "metadata": {},
   "outputs": [],
   "source": [
    "dense_list = glob.glob(dense_path + \"*\")"
   ]
  },
  {
   "cell_type": "code",
   "execution_count": 9,
   "metadata": {},
   "outputs": [
    {
     "data": {
      "application/vnd.jupyter.widget-view+json": {
       "model_id": "cd9e89f8a80243588b6b242f06f89b47",
       "version_major": 2,
       "version_minor": 0
      },
      "text/plain": [
       "HBox(children=(FloatProgress(value=0.0, max=15094.0), HTML(value='')))"
      ]
     },
     "metadata": {},
     "output_type": "display_data"
    },
    {
     "name": "stdout",
     "output_type": "stream",
     "text": [
      "\n"
     ]
    }
   ],
   "source": [
    "for dense in tqdm(dense_list):\n",
    "#     try:\n",
    "        name = dense.split(\"/\")[-1]\n",
    "        dense = dense_path + name\n",
    "#         model_image = image_path + name.split(\".\")[0] + \".jpg\"\n",
    "        model_image = image_path + name[:-4] + \".jpg\"\n",
    "        dense_array = np.load(dense)\n",
    "        model_image_pil = Image.open(model_image)\n",
    "        model_image_array = np.asarray(model_image_pil)[:dense_array.shape[1],:dense_array.shape[2],:]\n",
    "\n",
    "        solution = 75\n",
    "        solution_float = float(solution) - 1 \n",
    "\n",
    "        U = dense_array[1, :, :]\n",
    "        V = dense_array[2, :, :]\n",
    "        parts = list()\n",
    "        for PartInd in range(1, 25):\n",
    "            actual_part = np.zeros((solution, solution, 3))\n",
    "            x, y = np.where(dense_array[0,:,:] == PartInd)\n",
    "            if len(x) == 0:\n",
    "                parts.append(actual_part)\n",
    "                continue\n",
    "            u_current_points = U[x, y]\n",
    "            v_current_points = V[x, y]\n",
    "\n",
    "\n",
    "            tex_map_coords = ((255-v_current_points)*solution_float/255.).astype(int), (u_current_points*solution_float/255.).astype(int)\n",
    "            for c in range(3):\n",
    "                actual_part[tex_map_coords[0], tex_map_coords[1], c] = model_image_array[x, y, c]\n",
    "\n",
    "            parts.append(actual_part)\n",
    "        TextureIm  = np.zeros([solution*6,solution*4,3]);\n",
    "        for i in range(4):\n",
    "            for j in range(6):\n",
    "                TextureIm[ (solution*j):(solution*j+solution)  , (solution*i):(solution*i+solution) ,: ] = parts[i*6+j]\n",
    "        TextureIm = TextureIm.transpose(1, 0, 2)\n",
    "\n",
    "\n",
    "        \n",
    "\n",
    "        normal_pil = Image.fromarray(np.uint8(TextureIm))\n",
    "#         normal_pil.save(dest_path + name.split(\".\")[0] + \".jpg\")\n",
    "        normal_pil.save(dest_path + name[:-4] + \".jpg\")\n",
    "#     except:\n",
    "#         print(name)"
   ]
  },
  {
   "cell_type": "code",
   "execution_count": null,
   "metadata": {},
   "outputs": [],
   "source": []
  }
 ],
 "metadata": {
  "kernelspec": {
   "display_name": "Python 3",
   "language": "python",
   "name": "python3"
  },
  "language_info": {
   "codemirror_mode": {
    "name": "ipython",
    "version": 3
   },
   "file_extension": ".py",
   "mimetype": "text/x-python",
   "name": "python",
   "nbconvert_exporter": "python",
   "pygments_lexer": "ipython3",
   "version": "3.8.5"
  }
 },
 "nbformat": 4,
 "nbformat_minor": 4
}
