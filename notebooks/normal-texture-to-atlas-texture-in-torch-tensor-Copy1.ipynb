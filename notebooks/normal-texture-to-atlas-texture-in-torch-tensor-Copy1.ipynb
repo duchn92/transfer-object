{
 "cells": [
  {
   "cell_type": "code",
   "execution_count": 1,
   "metadata": {},
   "outputs": [],
   "source": [
    "import pickle\n",
    "from PIL import Image\n",
    "import numpy as np\n",
    "from scipy.io import loadmat\n",
    "import matplotlib.pyplot as plt\n",
    "import torch\n",
    "from torchvision import transforms"
   ]
  },
  {
   "cell_type": "code",
   "execution_count": 2,
   "metadata": {},
   "outputs": [],
   "source": [
    "with open(\"./normal.pickle\", \"rb\") as f:\n",
    "    normal_hash = pickle.load(f)\n",
    "    \n",
    "with open(\"./normal_faces.pickle\", \"rb\") as f:\n",
    "    normal_faces = pickle.load(f)\n",
    "    \n",
    "alp_uv = loadmat(\"./UV_Processed.mat\")\n",
    "\n",
    "with open(\"./parts_list_ids.pickle\", \"rb\") as f:\n",
    "    parts_list_ids = pickle.load(f)\n",
    "    \n",
    "with open(\"./atlas_hash.pickle\", \"rb\") as f:\n",
    "    atlas_hash = pickle.load(f)\n",
    "    \n",
    "with open(\"normal2atlas_512_200.pickle\", mode='rb') as f:\n",
    "    mapping_relation = pickle.load(f)"
   ]
  },
  {
   "cell_type": "code",
   "execution_count": 3,
   "metadata": {},
   "outputs": [],
   "source": [
    "normal_tex = transforms.ToTensor()(Image.open(\"./normal_texture.jpg\"))\n",
    "# normal_tex = no"
   ]
  },
  {
   "cell_type": "code",
   "execution_count": 4,
   "metadata": {},
   "outputs": [
    {
     "data": {
      "text/plain": [
       "torch.Size([2, 512, 512, 3])"
      ]
     },
     "execution_count": 4,
     "metadata": {},
     "output_type": "execute_result"
    }
   ],
   "source": [
    "normal_tex_batch = torch.stack([normal_tex, normal_tex])\n",
    "normal_tex_batch = normal_tex_batch.transpose(1, -1)\n",
    "normal_tex_batch.shape"
   ]
  },
  {
   "cell_type": "code",
   "execution_count": 5,
   "metadata": {},
   "outputs": [],
   "source": [
    "c, h, w = normal_tex.shape"
   ]
  },
  {
   "cell_type": "code",
   "execution_count": 6,
   "metadata": {},
   "outputs": [
    {
     "name": "stdout",
     "output_type": "stream",
     "text": [
      "2 512 512 3\n"
     ]
    }
   ],
   "source": [
    "bs, h, w, c = normal_tex_batch.shape\n",
    "print(bs, h, w, c)"
   ]
  },
  {
   "cell_type": "code",
   "execution_count": 7,
   "metadata": {},
   "outputs": [],
   "source": [
    "atlas_size = 200"
   ]
  },
  {
   "cell_type": "code",
   "execution_count": 8,
   "metadata": {},
   "outputs": [],
   "source": [
    "vertex_tex = {}"
   ]
  },
  {
   "cell_type": "code",
   "execution_count": 9,
   "metadata": {},
   "outputs": [],
   "source": [
    "for k, v in normal_hash.items():\n",
    "    vertex_tex[k] = normal_tex[:, int(h - v[0][1] * (h-1)), int(v[0][0] * (w - 1))]"
   ]
  },
  {
   "cell_type": "code",
   "execution_count": 10,
   "metadata": {},
   "outputs": [],
   "source": [
    "FaceIndices = alp_uv[\"All_FaceIndices\"].squeeze()\n",
    "FacesDensePose = alp_uv[\"All_Faces\"] - 1\n",
    "U_norm = alp_uv[\"All_U_norm\"].squeeze()\n",
    "V_norm = alp_uv[\"All_V_norm\"].squeeze()\n",
    "All_vertices = alp_uv[\"All_vertices\"][0]"
   ]
  },
  {
   "cell_type": "code",
   "execution_count": 11,
   "metadata": {},
   "outputs": [],
   "source": [
    "# parts_list_ids = {}\n",
    "# for parts_num in range(1, 25):\n",
    "#     FaceIndicesNow = np.where(FaceIndices == parts_num)\n",
    "#     FacesNow = FacesDensePose[FaceIndicesNow]\n",
    "#     parts_list_id = np.unique(FacesNow.flatten())\n",
    "#     parts_list_ids[parts_num] = parts_list_id\n",
    "# with open(\"./parts_list_ids.pickle\", \"wb\") as f:\n",
    "#     pickle.dump(parts_list_ids, f)"
   ]
  },
  {
   "cell_type": "code",
   "execution_count": 12,
   "metadata": {},
   "outputs": [],
   "source": [
    "# atlas_hash = {}\n",
    "# for parts_num in range(1, 25):\n",
    "#     parts_list_id = parts_list_ids[parts_num]\n",
    "#     for u, v, ver in zip(\n",
    "#         list(U_norm[parts_list_id]),\n",
    "#         list(V_norm[parts_list_id]),\n",
    "#         list(All_vertices[parts_list_id])):\n",
    "#         if (ver - 1) in atlas_hash:\n",
    "#             atlas_hash[ver - 1].append([parts_num, u, v])\n",
    "#         else:\n",
    "#             atlas_hash[ver - 1] = [[parts_num, u, v]]\n",
    "# with open(\"./atlas_hash.pickle\", \"wb\") as f:\n",
    "#     pickle.dump(atlas_hash, f)"
   ]
  },
  {
   "cell_type": "code",
   "execution_count": 13,
   "metadata": {},
   "outputs": [],
   "source": [
    "def mapping_to_each_atlas_parts(vertex_tex, parts_num):\n",
    "    \"\"\"\n",
    "    Function to convert normal texture into each part of atlas texture.\n",
    "    params:\n",
    "    vertex_tex: Stores the texture for each point of the SMPL model.\n",
    "    parts_num: The number of the parts. 1 ~ 24.\n",
    "    \"\"\"\n",
    "    tex = torch.zeros((c, atlas_size, atlas_size))\n",
    "\n",
    "    for k, v in atlas_hash.items():\n",
    "        for t in v:\n",
    "            if  t [ 0 ] ==  parts_num :\n",
    "                tex[:, int(t[1] * (atlas_size - 1)), (atlas_size - 1) -\n",
    "                    int(t[2] * (atlas_size - 1))] = vertex_tex[k]\n",
    "\n",
    "    return tex / 255"
   ]
  },
  {
   "cell_type": "code",
   "execution_count": 14,
   "metadata": {},
   "outputs": [],
   "source": [
    "atlas_texture = torch.zeros((24, c, atlas_size, atlas_size))\n",
    "for  i  in  range ( 24 ):\n",
    "    atlas_texture[i] = mapping_to_each_atlas_parts(vertex_tex, parts_num=i + 1)"
   ]
  },
  {
   "cell_type": "code",
   "execution_count": 15,
   "metadata": {},
   "outputs": [
    {
     "data": {
      "text/plain": [
       "torch.Size([24, 3, 200, 200])"
      ]
     },
     "execution_count": 15,
     "metadata": {},
     "output_type": "execute_result"
    }
   ],
   "source": [
    "atlas_texture.shape"
   ]
  },
  {
   "cell_type": "code",
   "execution_count": 16,
   "metadata": {},
   "outputs": [
    {
     "data": {
      "text/plain": [
       "[66, 69, 3, 461, 443]"
      ]
     },
     "execution_count": 16,
     "metadata": {},
     "output_type": "execute_result"
    }
   ],
   "source": [
    "mapping_relation[500000]"
   ]
  },
  {
   "cell_type": "code",
   "execution_count": 17,
   "metadata": {},
   "outputs": [
    {
     "data": {
      "text/plain": [
       "torch.Size([2, 512, 512, 3])"
      ]
     },
     "execution_count": 17,
     "metadata": {},
     "output_type": "execute_result"
    }
   ],
   "source": [
    "normal_tex_batch.shape"
   ]
  },
  {
   "cell_type": "code",
   "execution_count": 18,
   "metadata": {},
   "outputs": [],
   "source": [
    "painted_atlas_tex = atlas_texture.clone()\n",
    "# painted_atlas_tex = painted_atlas_tex.transpose(0, 1)\n",
    "# for relation in mapping_relation:\n",
    "#     new_tex = normal_tex_batch[:, :, relation[3], relation[4]]\n",
    "#     painted_atlas_tex[:,relation[2], :, relation[0], relation[1]]\n",
    "for relation in mapping_relation:\n",
    "    new_tex = normal_tex[:, relation[3], relation[4]]\n",
    "    painted_atlas_tex[relation[2], :, relation[0], relation[1]]  = new_tex / 255"
   ]
  },
  {
   "cell_type": "code",
   "execution_count": 19,
   "metadata": {},
   "outputs": [
    {
     "data": {
      "text/plain": [
       "torch.Size([24, 3, 200, 200])"
      ]
     },
     "execution_count": 19,
     "metadata": {},
     "output_type": "execute_result"
    }
   ],
   "source": [
    "painted_atlas_tex.shape"
   ]
  },
  {
   "cell_type": "code",
   "execution_count": 20,
   "metadata": {},
   "outputs": [
    {
     "data": {
      "text/plain": [
       "torch.Size([24, 200, 200, 3])"
      ]
     },
     "execution_count": 20,
     "metadata": {},
     "output_type": "execute_result"
    }
   ],
   "source": [
    "painted_atlas_permuted = painted_atlas_tex.permute(0, 2, 3, 1)\n",
    "painted_atlas_permuted.shape"
   ]
  },
  {
   "cell_type": "code",
   "execution_count": 21,
   "metadata": {},
   "outputs": [
    {
     "data": {
      "text/plain": [
       "<matplotlib.image.AxesImage at 0x7f87a736adf0>"
      ]
     },
     "execution_count": 21,
     "metadata": {},
     "output_type": "execute_result"
    },
    {
     "data": {
      "image/png": "[encoded data removed]",
      "text/plain": [
       "<Figure size 432x288 with 1 Axes>"
      ]
     },
     "metadata": {
      "needs_background": "light"
     },
     "output_type": "display_data"
    }
   ],
   "source": [
    "plt.imshow(painted_atlas_permuted[23].numpy() * 255)"
   ]
  },
  {
   "cell_type": "code",
   "execution_count": 22,
   "metadata": {},
   "outputs": [
    {
     "data": {
      "text/plain": [
       "array([0.        , 0.00392157, 0.00784314, 0.01176471, 0.01568628,\n",
       "       0.01960784, 0.02352941, 0.02745098, 0.03137255, 0.03529412,\n",
       "       0.03921569, 0.04313726, 0.04705882, 0.05098039, 0.05490196,\n",
       "       0.05882353, 0.0627451 , 0.06666667, 0.07058824, 0.07450981,\n",
       "       0.07843138, 0.08235294, 0.08627451, 0.09019608, 0.09411765,\n",
       "       0.09803922, 0.10196079, 0.10588235, 0.10980392, 0.11372549,\n",
       "       0.11764706, 0.12156863, 0.1254902 , 0.12941177, 0.13333334,\n",
       "       0.13725491, 0.14117648, 0.14509805, 0.14901961, 0.15294118,\n",
       "       0.15686275, 0.16078432, 0.16470589, 0.16862746, 0.17254902,\n",
       "       0.1764706 , 0.18039216, 0.18431373, 0.1882353 , 0.19215687,\n",
       "       0.19607843, 0.2       , 0.20392157, 0.20784314, 0.21176471,\n",
       "       0.21568628, 0.21960784, 0.22352941, 0.22745098, 0.23137255,\n",
       "       0.23529412, 0.23921569, 0.24313726, 0.24705882, 0.2509804 ,\n",
       "       0.25490198, 0.25882354, 0.2627451 , 0.26666668, 0.27058825,\n",
       "       0.27450982, 0.2784314 , 0.28235295, 0.28627452, 0.2901961 ,\n",
       "       0.29411766, 0.29803923, 0.3019608 , 0.30588236, 0.30980393,\n",
       "       0.3137255 , 0.31764707, 0.32156864, 0.3254902 , 0.32941177,\n",
       "       0.33333334, 0.3372549 , 0.34117648, 0.34509805, 0.34901962,\n",
       "       0.3529412 , 0.35686275, 0.36078432, 0.3647059 , 0.36862746,\n",
       "       0.37254903, 0.3764706 , 0.38039216, 0.38431373, 0.3882353 ,\n",
       "       0.39215687, 0.39607844, 0.4       , 0.40392157, 0.40784314,\n",
       "       0.4117647 , 0.41568628, 0.41960785, 0.42352942, 0.42745098,\n",
       "       0.43137255, 0.43529412, 0.4392157 , 0.44313726, 0.44705883,\n",
       "       0.4509804 , 0.45490196, 0.45882353, 0.4627451 , 0.46666667,\n",
       "       0.47058824, 0.4745098 , 0.47843137, 0.48235294, 0.4862745 ,\n",
       "       0.49019608, 0.49411765, 0.49803922, 0.5019608 , 0.5058824 ,\n",
       "       0.50980395, 0.5137255 , 0.5176471 , 0.52156866, 0.5254902 ,\n",
       "       0.5294118 , 0.53333336, 0.5372549 , 0.5411765 , 0.54509807,\n",
       "       0.54901963, 0.5529412 , 0.5568628 , 0.56078434, 0.5647059 ,\n",
       "       0.5686275 , 0.57254905, 0.5764706 , 0.5803922 , 0.58431375,\n",
       "       0.5882353 , 0.5921569 , 0.59607846, 0.6       , 0.6039216 ,\n",
       "       0.60784316, 0.6117647 , 0.6156863 , 0.61960787, 0.62352943,\n",
       "       0.627451  , 0.6313726 , 0.63529414, 0.6392157 , 0.6431373 ,\n",
       "       0.64705884, 0.6509804 , 0.654902  , 0.65882355, 0.6627451 ,\n",
       "       0.6666667 , 0.67058825, 0.6745098 , 0.6784314 , 0.68235296,\n",
       "       0.6862745 , 0.6901961 , 0.69411767, 0.69803923, 0.7019608 ,\n",
       "       0.7058824 , 0.70980394, 0.7137255 , 0.7176471 , 0.72156864,\n",
       "       0.7254902 , 0.7294118 , 0.73333335, 0.7372549 , 0.7411765 ,\n",
       "       0.74509805, 0.7490196 , 0.7529412 , 0.75686276, 0.7607843 ,\n",
       "       0.7647059 , 0.76862746, 0.77254903, 0.7764706 , 0.78039217,\n",
       "       0.78431374, 0.7882353 , 0.7921569 , 0.79607844, 0.8       ,\n",
       "       0.8039216 , 0.80784315, 0.8117647 , 0.8156863 , 0.81960785,\n",
       "       0.8235294 , 0.827451  , 0.83137256, 0.8352941 , 0.8392157 ,\n",
       "       0.84313726, 0.84705883, 0.8509804 , 0.85490197, 0.85882354,\n",
       "       0.8627451 , 0.8666667 , 0.87058824, 0.8745098 , 0.8784314 ,\n",
       "       0.88235295, 0.8862745 , 0.8901961 , 0.89411765, 0.8980392 ,\n",
       "       0.9019608 , 0.90588236, 0.9098039 , 0.9137255 , 0.91764706,\n",
       "       0.92156863, 0.9254902 , 0.92941177, 0.93333334, 0.9372549 ,\n",
       "       0.9411765 , 0.94509804, 0.9490196 , 0.9529412 , 0.95686275,\n",
       "       0.9607843 , 0.9647059 , 0.96862745, 0.972549  , 0.9764706 ,\n",
       "       0.98039216, 0.9843137 , 0.9882353 , 0.99215686, 0.99607843,\n",
       "       1.        ], dtype=float32)"
      ]
     },
     "execution_count": 22,
     "metadata": {},
     "output_type": "execute_result"
    }
   ],
   "source": [
    "np.unique(painted_atlas_permuted[23].numpy() * 255)"
   ]
  },
  {
   "cell_type": "code",
   "execution_count": null,
   "metadata": {},
   "outputs": [],
   "source": []
  }
 ],
 "metadata": {
  "kernelspec": {
   "display_name": "Python 3",
   "language": "python",
   "name": "python3"
  },
  "language_info": {
   "codemirror_mode": {
    "name": "ipython",
    "version": 3
   },
   "file_extension": ".py",
   "mimetype": "text/x-python",
   "name": "python",
   "nbconvert_exporter": "python",
   "pygments_lexer": "ipython3",
   "version": "3.8.5"
  }
 },
 "nbformat": 4,
 "nbformat_minor": 4
}
