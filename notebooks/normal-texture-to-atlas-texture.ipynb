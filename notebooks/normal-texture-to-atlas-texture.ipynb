{
 "cells": [
  {
   "cell_type": "code",
   "execution_count": 2,
   "metadata": {},
   "outputs": [],
   "source": [
    "import pickle\n",
    "from PIL import Image\n",
    "import numpy as np\n",
    "from scipy.io import loadmat\n",
    "import matplotlib.pyplot as plt"
   ]
  },
  {
   "cell_type": "code",
   "execution_count": 3,
   "metadata": {},
   "outputs": [
    {
     "name": "stdout",
     "output_type": "stream",
     "text": [
      "atlas_hash.pickle\r\n",
      "dense.jpg\r\n",
      "dense.npy\r\n",
      "dense_to_normal-texture.ipynb\r\n",
      "experiments.ipynb\r\n",
      "human_IUV.jpg\r\n",
      "human.jpg\r\n",
      "model_image.jpg\r\n",
      "normal2atlas_512_200.pickle\r\n",
      "normal_faces.pickle\r\n",
      "normal.pickle\r\n",
      "normal_texture.jpg\r\n",
      "normal-texture-to-atlas-texture-in-torch-tensor-Copy1.ipynb\r\n",
      "normal-texture-to-atlas-texture-in-torch-tensor.ipynb\r\n",
      "normal-texture-to-atlas-texture.ipynb\r\n",
      "parts_list_ids.pickle\r\n",
      "UV_Processed.mat\r\n"
     ]
    }
   ],
   "source": [
    "!ls"
   ]
  },
  {
   "cell_type": "code",
   "execution_count": 4,
   "metadata": {},
   "outputs": [],
   "source": [
    "with open(\"./normal.pickle\", \"rb\") as f:\n",
    "    normal_hash = pickle.load(f)"
   ]
  },
  {
   "cell_type": "code",
   "execution_count": 5,
   "metadata": {},
   "outputs": [
    {
     "data": {
      "text/plain": [
       "dict"
      ]
     },
     "execution_count": 5,
     "metadata": {},
     "output_type": "execute_result"
    }
   ],
   "source": [
    "type(normal_hash)"
   ]
  },
  {
   "cell_type": "code",
   "execution_count": 6,
   "metadata": {},
   "outputs": [
    {
     "data": {
      "text/plain": [
       "6890"
      ]
     },
     "execution_count": 6,
     "metadata": {},
     "output_type": "execute_result"
    }
   ],
   "source": [
    "len(list(normal_hash.keys()))"
   ]
  },
  {
   "cell_type": "code",
   "execution_count": 7,
   "metadata": {},
   "outputs": [
    {
     "data": {
      "text/plain": [
       "[[0.3716000020503998, 0.8810999989509583]]"
      ]
     },
     "execution_count": 7,
     "metadata": {},
     "output_type": "execute_result"
    }
   ],
   "source": [
    "normal_hash[0]"
   ]
  },
  {
   "cell_type": "code",
   "execution_count": 8,
   "metadata": {},
   "outputs": [],
   "source": [
    "with open(\"./normal_faces.pickle\", \"rb\") as f:\n",
    "    normal_faces = pickle.load(f)"
   ]
  },
  {
   "cell_type": "code",
   "execution_count": 9,
   "metadata": {},
   "outputs": [
    {
     "data": {
      "text/plain": [
       "13776"
      ]
     },
     "execution_count": 9,
     "metadata": {},
     "output_type": "execute_result"
    }
   ],
   "source": [
    "type(normal_faces)\n",
    "len(normal_faces)"
   ]
  },
  {
   "cell_type": "code",
   "execution_count": 10,
   "metadata": {},
   "outputs": [],
   "source": [
    "normal_tex = np.asarray(Image.open(\"./normal_texture.jpg\"))"
   ]
  },
  {
   "cell_type": "code",
   "execution_count": 11,
   "metadata": {},
   "outputs": [
    {
     "data": {
      "text/plain": [
       "(512, 512, 3)"
      ]
     },
     "execution_count": 11,
     "metadata": {},
     "output_type": "execute_result"
    }
   ],
   "source": [
    "normal_tex.shape"
   ]
  },
  {
   "cell_type": "code",
   "execution_count": 12,
   "metadata": {},
   "outputs": [],
   "source": [
    "h, w, _ = normal_tex.shape"
   ]
  },
  {
   "cell_type": "code",
   "execution_count": 13,
   "metadata": {},
   "outputs": [],
   "source": [
    "vertex_tex = {}"
   ]
  },
  {
   "cell_type": "code",
   "execution_count": 14,
   "metadata": {},
   "outputs": [],
   "source": [
    "for k, v in normal_hash.items():\n",
    "    # There may be multiple candidates for one vertex, but the texture considers them the same and uses the first candidate.\n",
    "    vertex_tex[k] = normal_tex[int(h - v[0][1] * (h - 1)), int(v[0][0] * (w - 1)), :]"
   ]
  },
  {
   "cell_type": "code",
   "execution_count": 15,
   "metadata": {},
   "outputs": [],
   "source": [
    "atlas_size = 200"
   ]
  },
  {
   "cell_type": "code",
   "execution_count": 16,
   "metadata": {},
   "outputs": [],
   "source": [
    "alp_uv = loadmat(\"./UV_Processed.mat\")"
   ]
  },
  {
   "cell_type": "code",
   "execution_count": 17,
   "metadata": {},
   "outputs": [
    {
     "data": {
      "text/plain": [
       "dict_keys(['__header__', '__version__', '__globals__', 'All_FaceIndices', 'All_Faces', 'All_U', 'All_U_norm', 'All_V', 'All_V_norm', 'All_vertices'])"
      ]
     },
     "execution_count": 17,
     "metadata": {},
     "output_type": "execute_result"
    }
   ],
   "source": [
    "alp_uv.keys()"
   ]
  },
  {
   "cell_type": "code",
   "execution_count": 18,
   "metadata": {},
   "outputs": [],
   "source": [
    "# (13774,), array([ 1,  1,  1, ..., 24, 24, 24], dtype=uint8)\n",
    "FaceIndices = np.array(alp_uv['All_FaceIndices']).squeeze()\n",
    "FacesDensePose = alp_uv['All_Faces'] - 1  # (13774, 3)\n",
    "# (7829,), array([0.02766012, 0.02547753, 0.2280528 , ..., 0.55260428, 0.54398063, 0.00275962])\n",
    "U_norm = alp_uv['All_U_norm'].squeeze()\n",
    "V_norm = alp_uv['All_V_norm'].squeeze()\n",
    "# (7829,), array([ 607,  608,  707, ..., 3494, 3495, 3500], dtype=uint32)\n",
    "All_vertices = alp_uv['All_vertices'][0]"
   ]
  },
  {
   "cell_type": "code",
   "execution_count": 19,
   "metadata": {},
   "outputs": [],
   "source": [
    "def get_list_ids_by_parts(parts_num):\n",
    "    \"\"\"\n",
    "    parts_num = 1 # 1 ~ 24 24 in total, (background 0)\n",
    "    \"\"\"\n",
    "\n",
    "    FaceIndicesNow = np.where(FaceIndices == parts_num)\n",
    "    FacesNow = FacesDensePose[FaceIndicesNow]  # (1284, 3)\n",
    "    parts_list_ids = np.unique(FacesNow.flatten())\n",
    "\n",
    "    return parts_list_ids"
   ]
  },
  {
   "cell_type": "code",
   "execution_count": 20,
   "metadata": {},
   "outputs": [],
   "source": [
    "atlas_hash = {}\n",
    "for  parts_num  in  range ( 1 , 25 ):\n",
    "    parts_list_ids = get_list_ids_by_parts(parts_num)\n",
    "    for  u , v , ver  in  zip (\n",
    "        list(\n",
    "            U_norm[parts_list_ids]), list(\n",
    "            V_norm[parts_list_ids]), list(\n",
    "            All_vertices[parts_list_ids])):\n",
    "        if (ver - 1) in atlas_hash:\n",
    "            atlas_hash[ver - 1].append([parts_num, u, v])\n",
    "        else:\n",
    "            atlas_hash[ver - 1] = [[parts_num, u, v]]"
   ]
  },
  {
   "cell_type": "code",
   "execution_count": 21,
   "metadata": {},
   "outputs": [],
   "source": [
    "def mapping_to_each_atlas_parts(vertex_tex, parts_num):\n",
    "    \"\"\"\n",
    "    Function to convert normal texture into each part of atlas texture.\n",
    "    params:\n",
    "    vertex_tex: Stores the texture for each point of the SMPL model.\n",
    "    parts_num: The number of the parts. 1 ~ 24.\n",
    "    \"\"\"\n",
    "    tex = np.zeros((atlas_size, atlas_size, 3))\n",
    "    tex_ex = np.zeros((atlas_size, atlas_size))\n",
    "\n",
    "    for k, v in atlas_hash.items():\n",
    "        for t in v:\n",
    "            if  t [ 0 ] ==  parts_num :\n",
    "                tex[int(t[1] * (atlas_size - 1)), (atlas_size - 1) -\n",
    "                    int(t[2] * (atlas_size - 1)), :] = vertex_tex[k]\n",
    "                \n",
    "                tex_ex[int(t[1] * (atlas_size - 1)),\n",
    "                       (atlas_size - 1) - int(t[2] * (atlas_size - 1))] = 1\n",
    "\n",
    "    return tex / 255, tex_ex"
   ]
  },
  {
   "cell_type": "code",
   "execution_count": 22,
   "metadata": {},
   "outputs": [],
   "source": [
    "atlas_texture = np.zeros((24, atlas_size, atlas_size, 3))\n",
    "atlas_ex = np.zeros((24, atlas_size, atlas_size))"
   ]
  },
  {
   "cell_type": "code",
   "execution_count": 23,
   "metadata": {},
   "outputs": [],
   "source": [
    "for  i  in  range ( 24 ):\n",
    "            atlas_texture[i], atlas_ex[i] = mapping_to_each_atlas_parts(vertex_tex, parts_num=i + 1)"
   ]
  },
  {
   "cell_type": "code",
   "execution_count": 24,
   "metadata": {},
   "outputs": [
    {
     "data": {
      "text/plain": [
       "(24, 200, 200, 3)"
      ]
     },
     "execution_count": 24,
     "metadata": {},
     "output_type": "execute_result"
    }
   ],
   "source": [
    "atlas_texture.shape"
   ]
  },
  {
   "cell_type": "code",
   "execution_count": 25,
   "metadata": {},
   "outputs": [
    {
     "data": {
      "text/plain": [
       "(24, 200, 200)"
      ]
     },
     "execution_count": 25,
     "metadata": {},
     "output_type": "execute_result"
    }
   ],
   "source": [
    "atlas_ex.shape"
   ]
  },
  {
   "cell_type": "code",
   "execution_count": 26,
   "metadata": {},
   "outputs": [],
   "source": [
    "with open(\"normal2atlas_512_200.pickle\", mode='rb') as f:\n",
    "    mapping_relation = pickle.load(f)"
   ]
  },
  {
   "cell_type": "code",
   "execution_count": 27,
   "metadata": {},
   "outputs": [],
   "source": [
    "\n",
    "\n",
    "painted_atlas_tex = np.copy(atlas_texture)\n",
    "for relation in mapping_relation:\n",
    "    new_tex = normal_tex[relation[3], relation[4]]\n",
    "    painted_atlas_tex[relation[2], relation[0], relation[1]] = new_tex / 255\n",
    "   "
   ]
  },
  {
   "cell_type": "code",
   "execution_count": 28,
   "metadata": {},
   "outputs": [
    {
     "data": {
      "text/plain": [
       "(24, 200, 200, 3)"
      ]
     },
     "execution_count": 28,
     "metadata": {},
     "output_type": "execute_result"
    }
   ],
   "source": [
    "painted_atlas_tex.shape"
   ]
  },
  {
   "cell_type": "code",
   "execution_count": 30,
   "metadata": {},
   "outputs": [
    {
     "data": {
      "text/plain": [
       "<matplotlib.image.AxesImage at 0x7fba875630a0>"
      ]
     },
     "execution_count": 30,
     "metadata": {},
     "output_type": "execute_result"
    },
    {
     "data": {
      "image/png": "[encoded data removed]",
      "text/plain": [
       "<Figure size 432x288 with 1 Axes>"
      ]
     },
     "metadata": {
      "needs_background": "light"
     },
     "output_type": "display_data"
    }
   ],
   "source": [
    "plt.imshow(painted_atlas_tex[23])"
   ]
  },
  {
   "cell_type": "code",
   "execution_count": null,
   "metadata": {},
   "outputs": [],
   "source": []
  }
 ],
 "metadata": {
  "kernelspec": {
   "display_name": "Python 3",
   "language": "python",
   "name": "python3"
  },
  "language_info": {
   "codemirror_mode": {
    "name": "ipython",
    "version": 3
   },
   "file_extension": ".py",
   "mimetype": "text/x-python",
   "name": "python",
   "nbconvert_exporter": "python",
   "pygments_lexer": "ipython3",
   "version": "3.8.5"
  }
 },
 "nbformat": 4,
 "nbformat_minor": 4
}
