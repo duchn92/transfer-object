{
 "cells": [
  {
   "cell_type": "code",
   "execution_count": 1,
   "metadata": {},
   "outputs": [],
   "source": [
    "import cv2\n",
    "import pickle\n",
    "from PIL import Image\n",
    "import numpy as np\n",
    "from scipy.io import loadmat\n",
    "import matplotlib.pyplot as plt\n",
    "import torch\n",
    "from torchvision import transforms"
   ]
  },
  {
   "cell_type": "code",
   "execution_count": 2,
   "metadata": {},
   "outputs": [],
   "source": [
    "with open(\"./normal.pickle\", \"rb\") as f:\n",
    "    normal_hash = pickle.load(f)\n",
    "    \n",
    "with open(\"./normal_faces.pickle\", \"rb\") as f:\n",
    "    normal_faces = pickle.load(f)\n",
    "    \n",
    "alp_uv = loadmat(\"./UV_Processed.mat\")\n",
    "\n",
    "with open(\"./parts_list_ids.pickle\", \"rb\") as f:\n",
    "    parts_list_ids = pickle.load(f)\n",
    "    \n",
    "with open(\"./atlas_hash.pickle\", \"rb\") as f:\n",
    "    atlas_hash = pickle.load(f)\n",
    "    \n",
    "with open(\"normal2atlas_512_200.pickle\", mode='rb') as f:\n",
    "    mapping_relation = pickle.load(f)"
   ]
  },
  {
   "cell_type": "code",
   "execution_count": 3,
   "metadata": {},
   "outputs": [],
   "source": [
    "normal_tex = transforms.ToTensor()(Image.open(\"./normal_texture_1.jpg\"))"
   ]
  },
  {
   "cell_type": "code",
   "execution_count": 4,
   "metadata": {},
   "outputs": [
    {
     "data": {
      "text/plain": [
       "torch.Size([2, 3, 512, 512])"
      ]
     },
     "execution_count": 4,
     "metadata": {},
     "output_type": "execute_result"
    }
   ],
   "source": [
    "normal_tex_batch = torch.stack([normal_tex, normal_tex])\n",
    "normal_tex_batch.shape"
   ]
  },
  {
   "cell_type": "code",
   "execution_count": 5,
   "metadata": {},
   "outputs": [
    {
     "name": "stdout",
     "output_type": "stream",
     "text": [
      "2 3 512 512\n"
     ]
    }
   ],
   "source": [
    "bs, c, h, w = normal_tex_batch.shape\n",
    "print(bs, c, h, w)"
   ]
  },
  {
   "cell_type": "code",
   "execution_count": 6,
   "metadata": {},
   "outputs": [],
   "source": [
    "atlas_size = 200"
   ]
  },
  {
   "cell_type": "code",
   "execution_count": 7,
   "metadata": {},
   "outputs": [],
   "source": [
    "vertex_tex = {}"
   ]
  },
  {
   "cell_type": "code",
   "execution_count": 8,
   "metadata": {},
   "outputs": [],
   "source": [
    "for k, v in normal_hash.items():\n",
    "    vertex_tex[k] = normal_tex_batch[:, :, int(h - v[0][1] * (h-1)), int(v[0][0] * (w - 1))]"
   ]
  },
  {
   "cell_type": "code",
   "execution_count": 9,
   "metadata": {},
   "outputs": [],
   "source": [
    "FaceIndices = alp_uv[\"All_FaceIndices\"].squeeze()\n",
    "FacesDensePose = alp_uv[\"All_Faces\"] - 1\n",
    "U_norm = alp_uv[\"All_U_norm\"].squeeze()\n",
    "V_norm = alp_uv[\"All_V_norm\"].squeeze()\n",
    "All_vertices = alp_uv[\"All_vertices\"][0]"
   ]
  },
  {
   "cell_type": "code",
   "execution_count": 10,
   "metadata": {},
   "outputs": [],
   "source": [
    "# parts_list_ids = {}\n",
    "# for parts_num in range(1, 25):\n",
    "#     FaceIndicesNow = np.where(FaceIndices == parts_num)\n",
    "#     FacesNow = FacesDensePose[FaceIndicesNow]\n",
    "#     parts_list_id = np.unique(FacesNow.flatten())\n",
    "#     parts_list_ids[parts_num] = parts_list_id\n",
    "# with open(\"./parts_list_ids.pickle\", \"wb\") as f:\n",
    "#     pickle.dump(parts_list_ids, f)"
   ]
  },
  {
   "cell_type": "code",
   "execution_count": 11,
   "metadata": {},
   "outputs": [],
   "source": [
    "# atlas_hash = {}\n",
    "# for parts_num in range(1, 25):\n",
    "#     parts_list_id = parts_list_ids[parts_num]\n",
    "#     for u, v, ver in zip(\n",
    "#         list(U_norm[parts_list_id]),\n",
    "#         list(V_norm[parts_list_id]),\n",
    "#         list(All_vertices[parts_list_id])):\n",
    "#         if (ver - 1) in atlas_hash:\n",
    "#             atlas_hash[ver - 1].append([parts_num, u, v])\n",
    "#         else:\n",
    "#             atlas_hash[ver - 1] = [[parts_num, u, v]]\n",
    "# with open(\"./atlas_hash.pickle\", \"wb\") as f:\n",
    "#     pickle.dump(atlas_hash, f)"
   ]
  },
  {
   "cell_type": "code",
   "execution_count": 12,
   "metadata": {},
   "outputs": [],
   "source": [
    "def mapping_to_each_atlas_parts(vertex_tex, parts_num):\n",
    "    \"\"\"\n",
    "    Function to convert normal texture into each part of atlas texture.\n",
    "    params:\n",
    "    vertex_tex: Stores the texture for each point of the SMPL model.\n",
    "    parts_num: The number of the parts. 1 ~ 24.\n",
    "    \"\"\"\n",
    "    tex = torch.zeros((bs, c, atlas_size, atlas_size))\n",
    "\n",
    "    for k, v in atlas_hash.items():\n",
    "        for t in v:\n",
    "            if  t [ 0 ] ==  parts_num :\n",
    "                tex[:, :, int(t[1] * (atlas_size - 1)), (atlas_size - 1) -\n",
    "                    int(t[2] * (atlas_size - 1))] = vertex_tex[k]\n",
    "\n",
    "    return tex / 255"
   ]
  },
  {
   "cell_type": "code",
   "execution_count": 13,
   "metadata": {},
   "outputs": [],
   "source": [
    "atlas_texture = torch.zeros((24, bs, c, atlas_size, atlas_size))\n",
    "for  i  in  range (24):\n",
    "    atlas_texture[i] = mapping_to_each_atlas_parts(vertex_tex, parts_num=i + 1)"
   ]
  },
  {
   "cell_type": "code",
   "execution_count": 14,
   "metadata": {},
   "outputs": [
    {
     "data": {
      "text/plain": [
       "torch.Size([24, 2, 3, 200, 200])"
      ]
     },
     "execution_count": 14,
     "metadata": {},
     "output_type": "execute_result"
    }
   ],
   "source": [
    "atlas_texture.shape"
   ]
  },
  {
   "cell_type": "code",
   "execution_count": 15,
   "metadata": {},
   "outputs": [
    {
     "data": {
      "text/plain": [
       "[66, 69, 3, 461, 443]"
      ]
     },
     "execution_count": 15,
     "metadata": {},
     "output_type": "execute_result"
    }
   ],
   "source": [
    "mapping_relation[500000]"
   ]
  },
  {
   "cell_type": "code",
   "execution_count": 16,
   "metadata": {},
   "outputs": [
    {
     "data": {
      "text/plain": [
       "835485"
      ]
     },
     "execution_count": 16,
     "metadata": {},
     "output_type": "execute_result"
    }
   ],
   "source": [
    "len(mapping_relation)"
   ]
  },
  {
   "cell_type": "code",
   "execution_count": 17,
   "metadata": {},
   "outputs": [
    {
     "data": {
      "text/plain": [
       "torch.Size([2, 3, 512, 512])"
      ]
     },
     "execution_count": 17,
     "metadata": {},
     "output_type": "execute_result"
    }
   ],
   "source": [
    "normal_tex_batch.shape"
   ]
  },
  {
   "cell_type": "code",
   "execution_count": 18,
   "metadata": {},
   "outputs": [],
   "source": [
    "painted_atlas_tex = atlas_texture.clone()\n",
    "# painted_atlas_tex = painted_atlas_tex.transpose(0, 1)\n",
    "# for relation in mapping_relation:\n",
    "#     new_tex = normal_tex_batch[:, :, relation[3], relation[4]]\n",
    "#     painted_atlas_tex[:,relation[2], :, relation[0], relation[1]]\n",
    "for relation in mapping_relation:\n",
    "    new_tex = normal_tex_batch[:, :, relation[3], relation[4]]\n",
    "    painted_atlas_tex[relation[2], :, :, relation[0], relation[1]]  = new_tex / 255"
   ]
  },
  {
   "cell_type": "code",
   "execution_count": 19,
   "metadata": {},
   "outputs": [
    {
     "data": {
      "text/plain": [
       "torch.Size([24, 2, 3, 200, 200])"
      ]
     },
     "execution_count": 19,
     "metadata": {},
     "output_type": "execute_result"
    }
   ],
   "source": [
    "painted_atlas_tex.shape"
   ]
  },
  {
   "cell_type": "markdown",
   "metadata": {},
   "source": [
    "### now putting the texture on a densepose"
   ]
  },
  {
   "cell_type": "code",
   "execution_count": 20,
   "metadata": {},
   "outputs": [],
   "source": [
    "target_image = transforms.ToTensor()(transforms.Resize((512, 512))((Image.open(\"./human.jpg\"))))\n",
    "target_image1 = transforms.ToTensor()(transforms.Resize((512, 512))((Image.open(\"./human1.jpg\"))))"
   ]
  },
  {
   "cell_type": "code",
   "execution_count": 21,
   "metadata": {},
   "outputs": [
    {
     "data": {
      "text/plain": [
       "torch.Size([2, 3, 512, 512])"
      ]
     },
     "execution_count": 21,
     "metadata": {},
     "output_type": "execute_result"
    }
   ],
   "source": [
    "target_image_batch = torch.stack([target_image, target_image1])\n",
    "target_image_batch.shape"
   ]
  },
  {
   "cell_type": "code",
   "execution_count": 22,
   "metadata": {},
   "outputs": [],
   "source": [
    "target_dense = np.load(\"./dense.npy\")\n",
    "target_dense = np.moveaxis(target_dense, 0, -1)\n",
    "target_dense = cv2.resize(target_dense, dsize=(512, 512), interpolation = cv2.INTER_NEAREST)\n",
    "\n",
    "target_dense1 = np.load(\"./dense1.npy\")\n",
    "target_dense1 = np.moveaxis(target_dense1, 0, -1)\n",
    "target_dense1 = cv2.resize(target_dense1, dsize=(512, 512), interpolation = cv2.INTER_NEAREST)"
   ]
  },
  {
   "cell_type": "code",
   "execution_count": 23,
   "metadata": {},
   "outputs": [
    {
     "data": {
      "text/plain": [
       "torch.Size([2, 512, 512, 3])"
      ]
     },
     "execution_count": 23,
     "metadata": {},
     "output_type": "execute_result"
    }
   ],
   "source": [
    "target_dense = torch.from_numpy(target_dense)\n",
    "target_dense1 = torch.from_numpy(target_dense1)\n",
    "target_dense_batch = torch.stack([target_dense, target_dense1])\n",
    "# target_dense_batch = target_dense_batch.permute(0, 3, 1, 2)\n",
    "target_dense_batch.shape"
   ]
  },
  {
   "cell_type": "code",
   "execution_count": 24,
   "metadata": {},
   "outputs": [],
   "source": [
    "target_dense_clone = target_dense_batch.clone()"
   ]
  },
  {
   "cell_type": "code",
   "execution_count": 44,
   "metadata": {},
   "outputs": [
    {
     "name": "stdout",
     "output_type": "stream",
     "text": [
      "torch.Size([2, 24, 3, 512, 512]) torch.Size([2, 24, 3, 512, 512])\n"
     ]
    }
   ],
   "source": [
    "target_dense_scatter_U = torch.zeros(25, bs, 512, 512).scatter_(0, target_dense_clone[:,:,:,0].unsqueeze(0).long(), target_dense_clone[:,:,:,1].unsqueeze(0))\n",
    "target_dense_scatter_V = torch.zeros(25, bs, 512, 512).scatter_(0, target_dense_clone[:,:,:,0].unsqueeze(0).long(), target_dense_clone[:,:,:,2].unsqueeze(0))\n",
    "\n",
    "\n",
    "target_dense_U = target_dense_clone[:,:,:,1].unsqueeze(0)\n",
    "target_dense_U = target_dense_U.repeat(25, 1, 1, 1)\n",
    "\n",
    "target_dense_V = target_dense_clone[:,:,:,2].unsqueeze(0)\n",
    "target_dense_V = target_dense_V.repeat(25, 1, 1, 1)\n",
    "\n",
    "target_dense_scatter_U[target_dense_scatter_U != 0] = 1\n",
    "target_dense_scatter_V[target_dense_scatter_V != 0] = 1\n",
    "\n",
    "target_dense_scatter_U = target_dense_scatter_U * target_dense_U\n",
    "target_dense_scatter_V = target_dense_scatter_V * target_dense_V\n",
    "\n",
    "\n",
    "target_dense_scatter_U = target_dense_scatter_U.permute(1, 0, 2, 3)\n",
    "target_dense_scatter_V = target_dense_scatter_V.permute(1, 0, 2, 3)\n",
    "\n",
    "\n",
    "target_dense_scatter_U = target_dense_scatter_U * 199./255.\n",
    "target_dense_scatter_V = (255-target_dense_scatter_V)*199./255.\n",
    "\n",
    "target_dense_scatter_U = target_dense_scatter_U.unsqueeze(2)\n",
    "target_dense_scatter_U = target_dense_scatter_U.repeat(1, 1, 3, 1, 1)\n",
    "target_dense_scatter_V = target_dense_scatter_V.unsqueeze(2)\n",
    "target_dense_scatter_V = target_dense_scatter_V.repeat(1, 1, 3, 1, 1)\n",
    "\n",
    "target_dense_scatter_U = target_dense_scatter_U[:,1:,:,:,:].long()\n",
    "target_dense_scatter_V = target_dense_scatter_V[:,1:,:,:,:].long()\n",
    "\n",
    "print(target_dense_scatter_U.shape, target_dense_scatter_V.shape)\n"
   ]
  },
  {
   "cell_type": "code",
   "execution_count": 33,
   "metadata": {},
   "outputs": [
    {
     "data": {
      "text/plain": [
       "torch.Size([2, 24, 3, 200, 200])"
      ]
     },
     "execution_count": 33,
     "metadata": {},
     "output_type": "execute_result"
    }
   ],
   "source": [
    "painted_atlas_tex_clone = painted_atlas_tex.clone()\n",
    "painted_atlas_tex_clone = painted_atlas_tex_clone.permute(1, 0, 2, 3, 4)*255\n",
    "painted_atlas_tex_clone = painted_atlas_tex_clone\n",
    "painted_atlas_tex_clone.shape"
   ]
  },
  {
   "cell_type": "code",
   "execution_count": 48,
   "metadata": {},
   "outputs": [
    {
     "name": "stdout",
     "output_type": "stream",
     "text": [
      "[  0   1   2   3   4   5   6   7   8   9  10  11  12  13  14  15  16  17\n",
      "  18  19  20  21  22  23  24  25  26  27  28  29  30  31  32  33  34  35\n",
      "  36  37  38  39  40  41  42  43  44  45  46  47  48  49  50  51  52  53\n",
      "  54  55  56  57  58  59  60  61  62  63  64  65  66  67  68  69  70  71\n",
      "  72  73  74  75  76  77  78  79  80  81  82  83  84  85  86  87  88  89\n",
      "  90  91  92  93  94  95  96  97  98  99 100 101 102 103 104 105 106 107\n",
      " 108 109 110 111 112 113 114 115 116 117 118 119 120 121 122 123 124 125\n",
      " 126 127 128 129 130 131 132 133 134 135 136 137 138 139 140 141 142 143\n",
      " 144 145 146 147 148 149 150 151 152 153 154 155 156 157 158 159 160 161\n",
      " 162 163 164 165 166 167 168 169 170 171 172 173 174 175 176 177 178 179\n",
      " 180 181 182 183 184 185 186 187 188 189 190 191 192 193 194 195 196 197\n",
      " 198 199]\n"
     ]
    }
   ],
   "source": [
    "print(np.unique(target_dense_scatter_U))"
   ]
  },
  {
   "cell_type": "code",
   "execution_count": 45,
   "metadata": {},
   "outputs": [],
   "source": [
    "painted_atlas_on_dense = painted_atlas_tex_clone.reshape(144, 200, 200)[torch.arange(144).repeat_interleave(262144), target_dense_scatter_U.reshape(37748736), target_dense_scatter_V.reshape(37748736)]"
   ]
  },
  {
   "cell_type": "code",
   "execution_count": null,
   "metadata": {},
   "outputs": [],
   "source": [
    "painted_atlas_on_dense = painted_atlas_on_dense.reshape(2, 24, 3, 512, 512)\n",
    "painted_atlas_on_dense.shape"
   ]
  },
  {
   "cell_type": "code",
   "execution_count": 82,
   "metadata": {},
   "outputs": [],
   "source": [
    "painted_atlas_on_dense = painted_atlas_on_dense.permute(0, 2, 1, 3, 4)"
   ]
  },
  {
   "cell_type": "code",
   "execution_count": 83,
   "metadata": {},
   "outputs": [
    {
     "data": {
      "text/plain": [
       "torch.Size([2, 3, 24, 512, 512])"
      ]
     },
     "execution_count": 83,
     "metadata": {},
     "output_type": "execute_result"
    }
   ],
   "source": [
    "painted_atlas_on_dense.shape"
   ]
  },
  {
   "cell_type": "code",
   "execution_count": 84,
   "metadata": {},
   "outputs": [],
   "source": [
    "painted_atlas_on_dense_summed = torch.sum(painted_atlas_on_dense, 2)"
   ]
  },
  {
   "cell_type": "code",
   "execution_count": 85,
   "metadata": {},
   "outputs": [
    {
     "data": {
      "text/plain": [
       "torch.Size([2, 3, 512, 512])"
      ]
     },
     "execution_count": 85,
     "metadata": {},
     "output_type": "execute_result"
    }
   ],
   "source": [
    "painted_atlas_on_dense_summed.shape"
   ]
  },
  {
   "cell_type": "code",
   "execution_count": 86,
   "metadata": {},
   "outputs": [
    {
     "name": "stderr",
     "output_type": "stream",
     "text": [
      "Clipping input data to the valid range for imshow with RGB data ([0..1] for floats or [0..255] for integers).\n"
     ]
    },
    {
     "data": {
      "text/plain": [
       "<matplotlib.image.AxesImage at 0x7fae412863d0>"
      ]
     },
     "execution_count": 86,
     "metadata": {},
     "output_type": "execute_result"
    },
    {
     "data": {
      "image/png": "[encoded data removed]",
      "text/plain": [
       "<Figure size 432x288 with 1 Axes>"
      ]
     },
     "metadata": {
      "needs_background": "light"
     },
     "output_type": "display_data"
    }
   ],
   "source": [
    "plt.imshow(painted_atlas_on_dense_summed[1].permute(1, 2, 0).numpy())"
   ]
  },
  {
   "cell_type": "code",
   "execution_count": 51,
   "metadata": {},
   "outputs": [
    {
     "data": {
      "text/plain": [
       "<matplotlib.image.AxesImage at 0x7fae41351160>"
      ]
     },
     "execution_count": 51,
     "metadata": {},
     "output_type": "execute_result"
    },
    {
     "data": {
      "image/png": "[encoded data removed]",
      "text/plain": [
       "<Figure size 432x288 with 1 Axes>"
      ]
     },
     "metadata": {
      "needs_background": "light"
     },
     "output_type": "display_data"
    }
   ],
   "source": [
    "plt.imshow(target_dense_batch[0,:,:,0].numpy())"
   ]
  },
  {
   "cell_type": "code",
   "execution_count": null,
   "metadata": {},
   "outputs": [],
   "source": []
  }
 ],
 "metadata": {
  "kernelspec": {
   "display_name": "Python 3",
   "language": "python",
   "name": "python3"
  },
  "language_info": {
   "codemirror_mode": {
    "name": "ipython",
    "version": 3
   },
   "file_extension": ".py",
   "mimetype": "text/x-python",
   "name": "python",
   "nbconvert_exporter": "python",
   "pygments_lexer": "ipython3",
   "version": "3.8.5"
  }
 },
 "nbformat": 4,
 "nbformat_minor": 4
}
